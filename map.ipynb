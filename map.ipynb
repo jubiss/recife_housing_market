{
 "cells": [
  {
   "cell_type": "code",
   "execution_count": 15,
   "metadata": {},
   "outputs": [],
   "source": [
    "import pandas as pd\n",
    "df = pd.read_csv('data.csv')"
   ]
  },
  {
   "cell_type": "code",
   "execution_count": 16,
   "metadata": {},
   "outputs": [
    {
     "data": {
      "text/html": [
       "<div>\n",
       "<style scoped>\n",
       "    .dataframe tbody tr th:only-of-type {\n",
       "        vertical-align: middle;\n",
       "    }\n",
       "\n",
       "    .dataframe tbody tr th {\n",
       "        vertical-align: top;\n",
       "    }\n",
       "\n",
       "    .dataframe thead th {\n",
       "        text-align: right;\n",
       "    }\n",
       "</style>\n",
       "<table border=\"1\" class=\"dataframe\">\n",
       "  <thead>\n",
       "    <tr style=\"text-align: right;\">\n",
       "      <th></th>\n",
       "      <th>Unnamed: 0</th>\n",
       "      <th>preco</th>\n",
       "      <th>area</th>\n",
       "      <th>add</th>\n",
       "      <th>descricao</th>\n",
       "      <th>preco_m2</th>\n",
       "      <th>location</th>\n",
       "      <th>point</th>\n",
       "      <th>latitude</th>\n",
       "      <th>longitude</th>\n",
       "      <th>altitude</th>\n",
       "    </tr>\n",
       "  </thead>\n",
       "  <tbody>\n",
       "    <tr>\n",
       "      <th>0</th>\n",
       "      <td>0</td>\n",
       "      <td>574992</td>\n",
       "      <td>432.0</td>\n",
       "      <td>Rua Vitorino Cardoso, Poço</td>\n",
       "      <td>O melhor conceito em moradia horizontal, com l...</td>\n",
       "      <td>1331.000000</td>\n",
       "      <td>Rua Vitorino Cardoso, Poço, Cabedelo, Região G...</td>\n",
       "      <td>(-7.025662, -34.8306875, 0.0)</td>\n",
       "      <td>-7.025662</td>\n",
       "      <td>-34.830688</td>\n",
       "      <td>0.0</td>\n",
       "    </tr>\n",
       "    <tr>\n",
       "      <th>1</th>\n",
       "      <td>1</td>\n",
       "      <td>143110</td>\n",
       "      <td>300.0</td>\n",
       "      <td>Alameda Gercino Tabosa, Universitario</td>\n",
       "      <td>PORTAS ABERTAS PARA SEU SONHO Viver no Terras ...</td>\n",
       "      <td>477.033333</td>\n",
       "      <td>NaN</td>\n",
       "      <td>NaN</td>\n",
       "      <td>NaN</td>\n",
       "      <td>NaN</td>\n",
       "      <td>NaN</td>\n",
       "    </tr>\n",
       "    <tr>\n",
       "      <th>2</th>\n",
       "      <td>2</td>\n",
       "      <td>98000</td>\n",
       "      <td>300.0</td>\n",
       "      <td>Avenida Marechal Floriano Peixoto, Santo Antônio</td>\n",
       "      <td>Morar num bairro estruturado e cercado de opçõ...</td>\n",
       "      <td>326.666667</td>\n",
       "      <td>Avenida Marechal Floriano Peixoto, Santo Antôn...</td>\n",
       "      <td>(-7.214742, -35.8739367, 0.0)</td>\n",
       "      <td>-7.214742</td>\n",
       "      <td>-35.873937</td>\n",
       "      <td>0.0</td>\n",
       "    </tr>\n",
       "    <tr>\n",
       "      <th>3</th>\n",
       "      <td>3</td>\n",
       "      <td>120000</td>\n",
       "      <td>609.0</td>\n",
       "      <td>Rodovia BR-408, Várzea</td>\n",
       "      <td>NaN</td>\n",
       "      <td>197.044335</td>\n",
       "      <td>Rodovia Virgílio Várzea (17), Rodovia Virgílio...</td>\n",
       "      <td>(-27.5480798, -48.4968386, 0.0)</td>\n",
       "      <td>-27.548080</td>\n",
       "      <td>-48.496839</td>\n",
       "      <td>0.0</td>\n",
       "    </tr>\n",
       "    <tr>\n",
       "      <th>4</th>\n",
       "      <td>4</td>\n",
       "      <td>350000</td>\n",
       "      <td>242.0</td>\n",
       "      <td>Rua Visconde do Uruguai, Madalena</td>\n",
       "      <td>Everton Batista vende terreno no bairro da Tor...</td>\n",
       "      <td>1446.280992</td>\n",
       "      <td>Rua Visconde do Uruguai, Zumbi, Recife, Região...</td>\n",
       "      <td>(-8.0481299, -34.9141498, 0.0)</td>\n",
       "      <td>-8.048130</td>\n",
       "      <td>-34.914150</td>\n",
       "      <td>0.0</td>\n",
       "    </tr>\n",
       "  </tbody>\n",
       "</table>\n",
       "</div>"
      ],
      "text/plain": [
       "   Unnamed: 0   preco   area  \\\n",
       "0           0  574992  432.0   \n",
       "1           1  143110  300.0   \n",
       "2           2   98000  300.0   \n",
       "3           3  120000  609.0   \n",
       "4           4  350000  242.0   \n",
       "\n",
       "                                                add  \\\n",
       "0                        Rua Vitorino Cardoso, Poço   \n",
       "1             Alameda Gercino Tabosa, Universitario   \n",
       "2  Avenida Marechal Floriano Peixoto, Santo Antônio   \n",
       "3                            Rodovia BR-408, Várzea   \n",
       "4                 Rua Visconde do Uruguai, Madalena   \n",
       "\n",
       "                                           descricao     preco_m2  \\\n",
       "0  O melhor conceito em moradia horizontal, com l...  1331.000000   \n",
       "1  PORTAS ABERTAS PARA SEU SONHO Viver no Terras ...   477.033333   \n",
       "2  Morar num bairro estruturado e cercado de opçõ...   326.666667   \n",
       "3                                                NaN   197.044335   \n",
       "4  Everton Batista vende terreno no bairro da Tor...  1446.280992   \n",
       "\n",
       "                                            location  \\\n",
       "0  Rua Vitorino Cardoso, Poço, Cabedelo, Região G...   \n",
       "1                                                NaN   \n",
       "2  Avenida Marechal Floriano Peixoto, Santo Antôn...   \n",
       "3  Rodovia Virgílio Várzea (17), Rodovia Virgílio...   \n",
       "4  Rua Visconde do Uruguai, Zumbi, Recife, Região...   \n",
       "\n",
       "                             point   latitude  longitude  altitude  \n",
       "0    (-7.025662, -34.8306875, 0.0)  -7.025662 -34.830688       0.0  \n",
       "1                              NaN        NaN        NaN       NaN  \n",
       "2    (-7.214742, -35.8739367, 0.0)  -7.214742 -35.873937       0.0  \n",
       "3  (-27.5480798, -48.4968386, 0.0) -27.548080 -48.496839       0.0  \n",
       "4   (-8.0481299, -34.9141498, 0.0)  -8.048130 -34.914150       0.0  "
      ]
     },
     "execution_count": 16,
     "metadata": {},
     "output_type": "execute_result"
    }
   ],
   "source": [
    "df.head()"
   ]
  },
  {
   "cell_type": "code",
   "execution_count": 18,
   "metadata": {},
   "outputs": [
    {
     "data": {
      "application/vnd.plotly.v1+json": {
       "config": {
        "plotlyServerURL": "https://plot.ly"
       },
       "data": [
        {
         "hovertemplate": "latitude=%{lat}<br>longitude=%{lon}<extra></extra>",
         "lat": [
          -7.025662,
          null,
          -7.214742,
          -27.5480798,
          -8.0481299,
          -8.0719694,
          -8.0470663,
          -8.0908115,
          -8.017635,
          -8.0906522,
          -27.5480798,
          -27.5480798,
          -8.04583,
          -8.0544761,
          -8.0957944,
          -8.0279472,
          -8.066398,
          -8.0840094,
          -8.0577884,
          null,
          null,
          -8.0719694,
          -8.1235027,
          -8.0395443,
          -8.0295619,
          null,
          -7.9974518,
          40.5907585,
          -8.0719694,
          -8.0518174,
          -8.0719694,
          -7.9532851,
          -8.0190214,
          -8.0516621,
          -8.0633473,
          -8.0304836,
          -8.0108713,
          -8.1235027,
          -8.0840187,
          -7.9532851,
          -8.0415302,
          -8.058155,
          -7.9532851,
          -8.0375459,
          null,
          -8.1149502,
          -7.9532851,
          -8.1235027,
          -8.0461582,
          -8.019854,
          -8.0290456,
          -8.0617501,
          -8.0604429,
          -8.0719694,
          -8.0367282,
          -8.1437029,
          null,
          -8.0337759,
          -8.0367962,
          -8.0488968,
          -8.0332891,
          -8.0719694,
          -8.0478937,
          -8.1106092,
          -8.0436709,
          -7.9532851,
          -8.0719694,
          null,
          -8.048718000000001,
          -8.0719694,
          -8.0286625,
          -8.0506353,
          -8.0311337,
          -8.2838945,
          -8.29104015,
          -9.4044262,
          -8.3100846,
          null,
          40.0932313,
          -8.2743861,
          null,
          -8.2815165,
          -8.29104015,
          null,
          null,
          -23.1451262,
          -29.1678985,
          -23.1451262,
          -29.1678985,
          -23.1451262,
          -23.1451262,
          null,
          -8.29104015,
          -23.1451262,
          null,
          -23.1451262,
          -23.1451262,
          null,
          null,
          null,
          -7.560603,
          -7.5131548,
          -8.0734621,
          null,
          null,
          null,
          -7.560603,
          null,
          -8.0734621,
          -8.0734621,
          null,
          -8.0734621,
          -7.5131548,
          null,
          -7.5131548,
          null,
          -7.57801,
          -7.560603,
          null,
          -6.0902674,
          -7.5131548,
          -7.8277781,
          -7.8175555,
          null,
          -7.8106691,
          null,
          -7.8212651,
          -7.8490756,
          -7.8354423,
          null,
          -22.8074737,
          -7.8085416,
          -7.81041525,
          -7.7905981,
          -7.8503604,
          -7.8857226,
          -7.9097835,
          -7.752273,
          null,
          null,
          null,
          -8.5571577,
          -8.5058973,
          -8.38358115,
          -8.38358115,
          -8.5435703,
          null,
          -8.3919914,
          null,
          null,
          -8.5913798,
          -8.4274648,
          -8.3980773,
          -8.5913798,
          -8.5913798,
          -8.5913798,
          -8.47205915,
          -8.5913798,
          -8.5913798,
          -8.2251098,
          -8.0944832,
          -8.0736328,
          -8.0944832,
          -8.0876012,
          -8.0707732,
          -8.094334,
          -8.2030682,
          -8.094334,
          -8.0944832,
          -8.0876012,
          -8.1626549,
          -8.0944832,
          -8.094334,
          -8.0736328,
          null,
          null,
          -8.0944832,
          -8.094334,
          null,
          -8.1883001,
          -8.1960289,
          -8.094334,
          null,
          -8.094334,
          null,
          -8.0944832,
          -8.094334,
          null,
          -8.2130079,
          -8.0736328,
          -22.9209231,
          -8.094334,
          -8.094334,
          -8.0766589,
          -22.9209231,
          -8.0944832,
          null,
          null,
          -8.2013452,
          -8.0736328,
          -8.206234,
          -8.094334,
          -8.094334,
          -8.094334,
          -8.2230205,
          -8.1545766,
          -8.1865631,
          -22.9209231,
          -8.1636323,
          -8.1031082,
          -8.1740485,
          null,
          -8.0736328,
          -8.1552666,
          -8.1552666,
          -8.2037325,
          -8.1727999,
          -8.2069455,
          -8.1883001,
          null,
          -8.1960289,
          -8.094334,
          -8.0766589,
          -8.2132152,
          -8.1960289,
          -8.1960289,
          -8.1960289,
          -8.0944832,
          -8.1803454,
          -8.1960289,
          -8.0944832,
          -8.1760585,
          -8.1532245,
          -8.094334,
          -8.1960289,
          -8.2030682,
          -8.1960289,
          -8.1960289,
          -8.108706,
          -8.108706,
          null,
          -8.108706,
          -32.176634,
          -8.1161865,
          -8.1161865,
          40.6617852,
          -8.1092855,
          -7.9853461,
          null,
          -7.9736175,
          null,
          -7.9691489,
          -7.9843275,
          null,
          null,
          -7.96569,
          -7.9736175,
          -7.9785063,
          -7.96569,
          null,
          null,
          -8.0045409,
          -7.9743534,
          -7.9789559,
          null,
          -7.9643423,
          null,
          -7.9954737,
          null,
          -8.0297541,
          -21.3013349,
          -21.3013349,
          -7.9729896,
          -7.9729896,
          -7.9729896,
          -7.9729896,
          -7.9646164,
          -7.9646164,
          -21.3013349,
          -21.3013349,
          -21.3013349,
          -21.3013349,
          -7.9844171,
          -7.9765487,
          null,
          null,
          null,
          -21.3013349,
          null,
          null,
          -7.9646164,
          -7.9729896,
          -7.9729896,
          -7.9622325,
          -21.3013349,
          -21.3013349,
          -21.3013349,
          -7.9729896,
          -21.3013349,
          -7.957649,
          -21.3013349,
          -7.9729896,
          null,
          -7.8553024,
          null,
          -7.9646164,
          -7.9646164
         ],
         "legendgroup": "",
         "lon": [
          -34.8306875,
          null,
          -35.8739367,
          -48.4968386,
          -34.9141498,
          -34.9572204,
          -34.934784,
          -34.8853771,
          -34.9538384,
          -34.8917118,
          -48.4968386,
          -48.4968386,
          -34.9110425,
          -34.876718,
          -34.9190275,
          -34.9169601,
          -34.9898974,
          -34.9256317,
          -34.9105248,
          null,
          null,
          -34.9572204,
          -34.9033955,
          -34.8848424,
          -34.8827934,
          null,
          -34.9108119,
          -8.7367768,
          -34.9572204,
          -34.9243522,
          -34.9572204,
          -34.9537358,
          -34.9381275,
          -34.9406654,
          -34.9363481,
          -34.8992939,
          -34.9350048,
          -34.9033955,
          -34.9238393,
          -34.9537358,
          -34.9357121,
          -34.9088906,
          -34.9537358,
          -34.8901297,
          null,
          -34.8949666,
          -34.9537358,
          -34.9033955,
          -34.9342557,
          -34.9363733,
          -34.9024433,
          -34.8872674,
          -34.8914382,
          -34.9572204,
          -34.8908676,
          -34.9053245,
          null,
          -34.9220079,
          -34.9085835,
          -34.892848,
          -34.9427408,
          -34.9572204,
          -34.9608788,
          -34.9514063,
          -34.9335031,
          -34.9537358,
          -34.9572204,
          null,
          -34.93998853929769,
          -34.9572204,
          -34.9324103,
          -34.8779225,
          -34.9558536,
          -35.0320984,
          -35.08255309375,
          -40.5472796,
          -34.9539685,
          null,
          -7.448713,
          -34.9488567,
          null,
          -35.0213099,
          -35.08255309375,
          null,
          null,
          -45.9226719,
          -51.18139,
          -45.9226719,
          -51.18139,
          -45.9226719,
          -45.9226719,
          null,
          -35.08255309375,
          -45.9226719,
          null,
          -45.9226719,
          -45.9226719,
          null,
          null,
          null,
          -34.99591,
          -35.317343,
          -34.9211473,
          null,
          null,
          null,
          -34.99591,
          null,
          -34.9211473,
          -34.9211473,
          null,
          -34.9211473,
          -35.317343,
          null,
          -35.317343,
          null,
          -34.832999,
          -34.99591,
          null,
          -35.2085026,
          -35.317343,
          -34.96413092063,
          -34.924821,
          null,
          -34.8974759,
          null,
          -34.9193586,
          -34.863891325213416,
          -34.9061125,
          null,
          -45.1984715,
          -34.8585464,
          -34.83872988499248,
          -34.8501889,
          -34.839008,
          -34.8295041,
          -34.8331825,
          -34.8246297,
          null,
          null,
          null,
          -35.0174513,
          -35.0013363,
          -35.07572653994858,
          -35.07572653994858,
          -35.0186315,
          null,
          -35.0481684,
          null,
          null,
          -35.0452171,
          -34.977762,
          -35.0611068,
          -35.0452171,
          -35.0452171,
          -35.0452171,
          -35.0103061513458,
          -35.0452171,
          -35.0452171,
          -34.9321823,
          -35.0387985,
          -34.9627385,
          -35.0387985,
          -35.0312417,
          -34.9929967,
          -35.0388014,
          -34.9216318,
          -35.0388014,
          -35.0387985,
          -35.0312417,
          -34.9214769,
          -35.0387985,
          -35.0388014,
          -34.9627385,
          null,
          null,
          -35.0387985,
          -35.0388014,
          null,
          -34.9352359,
          -34.9291341,
          -35.0388014,
          null,
          -35.0388014,
          null,
          -35.0387985,
          -35.0388014,
          null,
          -34.9257827,
          -34.9627385,
          -46.79167985362598,
          -35.0388014,
          -35.0388014,
          -34.9786273,
          -46.79167985362598,
          -35.0387985,
          null,
          null,
          -34.9341215,
          -34.9627385,
          -34.9230802,
          -35.0388014,
          -35.0388014,
          -35.0388014,
          -34.950917,
          -34.942537,
          -34.9211437,
          -46.79167985362598,
          -34.9135731,
          -35.0487519,
          -34.9178667,
          null,
          -34.9627385,
          -34.9592909,
          -34.9592909,
          -34.9287332,
          -34.939362,
          -34.9239845,
          -34.9352359,
          null,
          -34.9291341,
          -35.0388014,
          -34.9786273,
          -34.9251098,
          -34.9291341,
          -34.9291341,
          -34.9291341,
          -35.0387985,
          -34.9225612,
          -34.9291341,
          -35.0387985,
          -34.917877,
          -34.9761611,
          -35.0388014,
          -34.9291341,
          -34.9216318,
          -34.9291341,
          -34.9291341,
          -35.08354,
          -35.08354,
          null,
          -35.08354,
          -52.14545488055779,
          -35.1000692,
          -35.1000692,
          -8.6245635,
          -35.1937317,
          -34.8373689,
          null,
          -34.8513915,
          null,
          -34.8331075,
          -34.8398486,
          null,
          null,
          -34.8317257,
          -34.8513915,
          -34.8393296,
          -34.8317257,
          null,
          null,
          -34.8603677,
          -34.8426801,
          -34.8431631,
          null,
          -34.8731368,
          null,
          -35.041244,
          null,
          -34.9975115,
          -41.124786,
          -41.124786,
          -34.983639,
          -34.983639,
          -34.983639,
          -34.983639,
          -34.9942645,
          -34.9942645,
          -41.124786,
          -41.124786,
          -41.124786,
          -41.124786,
          -35.0003909,
          -35.0006148,
          null,
          null,
          null,
          -41.124786,
          null,
          null,
          -34.9942645,
          -34.983639,
          -34.983639,
          -35.0106087,
          -41.124786,
          -41.124786,
          -41.124786,
          -34.983639,
          -41.124786,
          -35.0051189,
          -41.124786,
          -34.983639,
          null,
          -35.1156352,
          null,
          -34.9942645,
          -34.9942645
         ],
         "marker": {
          "color": "#636efa"
         },
         "mode": "markers",
         "name": "",
         "showlegend": false,
         "subplot": "mapbox",
         "type": "scattermapbox"
        }
       ],
       "layout": {
        "legend": {
         "tracegroupgap": 0
        },
        "mapbox": {
         "center": {
          "lat": -8,
          "lon": -34.9
         },
         "domain": {
          "x": [
           0,
           1
          ],
          "y": [
           0,
           1
          ]
         },
         "style": "open-street-map",
         "zoom": 10
        },
        "margin": {
         "t": 60
        },
        "template": {
         "data": {
          "bar": [
           {
            "error_x": {
             "color": "#2a3f5f"
            },
            "error_y": {
             "color": "#2a3f5f"
            },
            "marker": {
             "line": {
              "color": "#E5ECF6",
              "width": 0.5
             }
            },
            "type": "bar"
           }
          ],
          "barpolar": [
           {
            "marker": {
             "line": {
              "color": "#E5ECF6",
              "width": 0.5
             }
            },
            "type": "barpolar"
           }
          ],
          "carpet": [
           {
            "aaxis": {
             "endlinecolor": "#2a3f5f",
             "gridcolor": "white",
             "linecolor": "white",
             "minorgridcolor": "white",
             "startlinecolor": "#2a3f5f"
            },
            "baxis": {
             "endlinecolor": "#2a3f5f",
             "gridcolor": "white",
             "linecolor": "white",
             "minorgridcolor": "white",
             "startlinecolor": "#2a3f5f"
            },
            "type": "carpet"
           }
          ],
          "choropleth": [
           {
            "colorbar": {
             "outlinewidth": 0,
             "ticks": ""
            },
            "type": "choropleth"
           }
          ],
          "contour": [
           {
            "colorbar": {
             "outlinewidth": 0,
             "ticks": ""
            },
            "colorscale": [
             [
              0,
              "#0d0887"
             ],
             [
              0.1111111111111111,
              "#46039f"
             ],
             [
              0.2222222222222222,
              "#7201a8"
             ],
             [
              0.3333333333333333,
              "#9c179e"
             ],
             [
              0.4444444444444444,
              "#bd3786"
             ],
             [
              0.5555555555555556,
              "#d8576b"
             ],
             [
              0.6666666666666666,
              "#ed7953"
             ],
             [
              0.7777777777777778,
              "#fb9f3a"
             ],
             [
              0.8888888888888888,
              "#fdca26"
             ],
             [
              1,
              "#f0f921"
             ]
            ],
            "type": "contour"
           }
          ],
          "contourcarpet": [
           {
            "colorbar": {
             "outlinewidth": 0,
             "ticks": ""
            },
            "type": "contourcarpet"
           }
          ],
          "heatmap": [
           {
            "colorbar": {
             "outlinewidth": 0,
             "ticks": ""
            },
            "colorscale": [
             [
              0,
              "#0d0887"
             ],
             [
              0.1111111111111111,
              "#46039f"
             ],
             [
              0.2222222222222222,
              "#7201a8"
             ],
             [
              0.3333333333333333,
              "#9c179e"
             ],
             [
              0.4444444444444444,
              "#bd3786"
             ],
             [
              0.5555555555555556,
              "#d8576b"
             ],
             [
              0.6666666666666666,
              "#ed7953"
             ],
             [
              0.7777777777777778,
              "#fb9f3a"
             ],
             [
              0.8888888888888888,
              "#fdca26"
             ],
             [
              1,
              "#f0f921"
             ]
            ],
            "type": "heatmap"
           }
          ],
          "heatmapgl": [
           {
            "colorbar": {
             "outlinewidth": 0,
             "ticks": ""
            },
            "colorscale": [
             [
              0,
              "#0d0887"
             ],
             [
              0.1111111111111111,
              "#46039f"
             ],
             [
              0.2222222222222222,
              "#7201a8"
             ],
             [
              0.3333333333333333,
              "#9c179e"
             ],
             [
              0.4444444444444444,
              "#bd3786"
             ],
             [
              0.5555555555555556,
              "#d8576b"
             ],
             [
              0.6666666666666666,
              "#ed7953"
             ],
             [
              0.7777777777777778,
              "#fb9f3a"
             ],
             [
              0.8888888888888888,
              "#fdca26"
             ],
             [
              1,
              "#f0f921"
             ]
            ],
            "type": "heatmapgl"
           }
          ],
          "histogram": [
           {
            "marker": {
             "colorbar": {
              "outlinewidth": 0,
              "ticks": ""
             }
            },
            "type": "histogram"
           }
          ],
          "histogram2d": [
           {
            "colorbar": {
             "outlinewidth": 0,
             "ticks": ""
            },
            "colorscale": [
             [
              0,
              "#0d0887"
             ],
             [
              0.1111111111111111,
              "#46039f"
             ],
             [
              0.2222222222222222,
              "#7201a8"
             ],
             [
              0.3333333333333333,
              "#9c179e"
             ],
             [
              0.4444444444444444,
              "#bd3786"
             ],
             [
              0.5555555555555556,
              "#d8576b"
             ],
             [
              0.6666666666666666,
              "#ed7953"
             ],
             [
              0.7777777777777778,
              "#fb9f3a"
             ],
             [
              0.8888888888888888,
              "#fdca26"
             ],
             [
              1,
              "#f0f921"
             ]
            ],
            "type": "histogram2d"
           }
          ],
          "histogram2dcontour": [
           {
            "colorbar": {
             "outlinewidth": 0,
             "ticks": ""
            },
            "colorscale": [
             [
              0,
              "#0d0887"
             ],
             [
              0.1111111111111111,
              "#46039f"
             ],
             [
              0.2222222222222222,
              "#7201a8"
             ],
             [
              0.3333333333333333,
              "#9c179e"
             ],
             [
              0.4444444444444444,
              "#bd3786"
             ],
             [
              0.5555555555555556,
              "#d8576b"
             ],
             [
              0.6666666666666666,
              "#ed7953"
             ],
             [
              0.7777777777777778,
              "#fb9f3a"
             ],
             [
              0.8888888888888888,
              "#fdca26"
             ],
             [
              1,
              "#f0f921"
             ]
            ],
            "type": "histogram2dcontour"
           }
          ],
          "mesh3d": [
           {
            "colorbar": {
             "outlinewidth": 0,
             "ticks": ""
            },
            "type": "mesh3d"
           }
          ],
          "parcoords": [
           {
            "line": {
             "colorbar": {
              "outlinewidth": 0,
              "ticks": ""
             }
            },
            "type": "parcoords"
           }
          ],
          "pie": [
           {
            "automargin": true,
            "type": "pie"
           }
          ],
          "scatter": [
           {
            "marker": {
             "colorbar": {
              "outlinewidth": 0,
              "ticks": ""
             }
            },
            "type": "scatter"
           }
          ],
          "scatter3d": [
           {
            "line": {
             "colorbar": {
              "outlinewidth": 0,
              "ticks": ""
             }
            },
            "marker": {
             "colorbar": {
              "outlinewidth": 0,
              "ticks": ""
             }
            },
            "type": "scatter3d"
           }
          ],
          "scattercarpet": [
           {
            "marker": {
             "colorbar": {
              "outlinewidth": 0,
              "ticks": ""
             }
            },
            "type": "scattercarpet"
           }
          ],
          "scattergeo": [
           {
            "marker": {
             "colorbar": {
              "outlinewidth": 0,
              "ticks": ""
             }
            },
            "type": "scattergeo"
           }
          ],
          "scattergl": [
           {
            "marker": {
             "colorbar": {
              "outlinewidth": 0,
              "ticks": ""
             }
            },
            "type": "scattergl"
           }
          ],
          "scattermapbox": [
           {
            "marker": {
             "colorbar": {
              "outlinewidth": 0,
              "ticks": ""
             }
            },
            "type": "scattermapbox"
           }
          ],
          "scatterpolar": [
           {
            "marker": {
             "colorbar": {
              "outlinewidth": 0,
              "ticks": ""
             }
            },
            "type": "scatterpolar"
           }
          ],
          "scatterpolargl": [
           {
            "marker": {
             "colorbar": {
              "outlinewidth": 0,
              "ticks": ""
             }
            },
            "type": "scatterpolargl"
           }
          ],
          "scatterternary": [
           {
            "marker": {
             "colorbar": {
              "outlinewidth": 0,
              "ticks": ""
             }
            },
            "type": "scatterternary"
           }
          ],
          "surface": [
           {
            "colorbar": {
             "outlinewidth": 0,
             "ticks": ""
            },
            "colorscale": [
             [
              0,
              "#0d0887"
             ],
             [
              0.1111111111111111,
              "#46039f"
             ],
             [
              0.2222222222222222,
              "#7201a8"
             ],
             [
              0.3333333333333333,
              "#9c179e"
             ],
             [
              0.4444444444444444,
              "#bd3786"
             ],
             [
              0.5555555555555556,
              "#d8576b"
             ],
             [
              0.6666666666666666,
              "#ed7953"
             ],
             [
              0.7777777777777778,
              "#fb9f3a"
             ],
             [
              0.8888888888888888,
              "#fdca26"
             ],
             [
              1,
              "#f0f921"
             ]
            ],
            "type": "surface"
           }
          ],
          "table": [
           {
            "cells": {
             "fill": {
              "color": "#EBF0F8"
             },
             "line": {
              "color": "white"
             }
            },
            "header": {
             "fill": {
              "color": "#C8D4E3"
             },
             "line": {
              "color": "white"
             }
            },
            "type": "table"
           }
          ]
         },
         "layout": {
          "annotationdefaults": {
           "arrowcolor": "#2a3f5f",
           "arrowhead": 0,
           "arrowwidth": 1
          },
          "autotypenumbers": "strict",
          "coloraxis": {
           "colorbar": {
            "outlinewidth": 0,
            "ticks": ""
           }
          },
          "colorscale": {
           "diverging": [
            [
             0,
             "#8e0152"
            ],
            [
             0.1,
             "#c51b7d"
            ],
            [
             0.2,
             "#de77ae"
            ],
            [
             0.3,
             "#f1b6da"
            ],
            [
             0.4,
             "#fde0ef"
            ],
            [
             0.5,
             "#f7f7f7"
            ],
            [
             0.6,
             "#e6f5d0"
            ],
            [
             0.7,
             "#b8e186"
            ],
            [
             0.8,
             "#7fbc41"
            ],
            [
             0.9,
             "#4d9221"
            ],
            [
             1,
             "#276419"
            ]
           ],
           "sequential": [
            [
             0,
             "#0d0887"
            ],
            [
             0.1111111111111111,
             "#46039f"
            ],
            [
             0.2222222222222222,
             "#7201a8"
            ],
            [
             0.3333333333333333,
             "#9c179e"
            ],
            [
             0.4444444444444444,
             "#bd3786"
            ],
            [
             0.5555555555555556,
             "#d8576b"
            ],
            [
             0.6666666666666666,
             "#ed7953"
            ],
            [
             0.7777777777777778,
             "#fb9f3a"
            ],
            [
             0.8888888888888888,
             "#fdca26"
            ],
            [
             1,
             "#f0f921"
            ]
           ],
           "sequentialminus": [
            [
             0,
             "#0d0887"
            ],
            [
             0.1111111111111111,
             "#46039f"
            ],
            [
             0.2222222222222222,
             "#7201a8"
            ],
            [
             0.3333333333333333,
             "#9c179e"
            ],
            [
             0.4444444444444444,
             "#bd3786"
            ],
            [
             0.5555555555555556,
             "#d8576b"
            ],
            [
             0.6666666666666666,
             "#ed7953"
            ],
            [
             0.7777777777777778,
             "#fb9f3a"
            ],
            [
             0.8888888888888888,
             "#fdca26"
            ],
            [
             1,
             "#f0f921"
            ]
           ]
          },
          "colorway": [
           "#636efa",
           "#EF553B",
           "#00cc96",
           "#ab63fa",
           "#FFA15A",
           "#19d3f3",
           "#FF6692",
           "#B6E880",
           "#FF97FF",
           "#FECB52"
          ],
          "font": {
           "color": "#2a3f5f"
          },
          "geo": {
           "bgcolor": "white",
           "lakecolor": "white",
           "landcolor": "#E5ECF6",
           "showlakes": true,
           "showland": true,
           "subunitcolor": "white"
          },
          "hoverlabel": {
           "align": "left"
          },
          "hovermode": "closest",
          "mapbox": {
           "style": "light"
          },
          "paper_bgcolor": "white",
          "plot_bgcolor": "#E5ECF6",
          "polar": {
           "angularaxis": {
            "gridcolor": "white",
            "linecolor": "white",
            "ticks": ""
           },
           "bgcolor": "#E5ECF6",
           "radialaxis": {
            "gridcolor": "white",
            "linecolor": "white",
            "ticks": ""
           }
          },
          "scene": {
           "xaxis": {
            "backgroundcolor": "#E5ECF6",
            "gridcolor": "white",
            "gridwidth": 2,
            "linecolor": "white",
            "showbackground": true,
            "ticks": "",
            "zerolinecolor": "white"
           },
           "yaxis": {
            "backgroundcolor": "#E5ECF6",
            "gridcolor": "white",
            "gridwidth": 2,
            "linecolor": "white",
            "showbackground": true,
            "ticks": "",
            "zerolinecolor": "white"
           },
           "zaxis": {
            "backgroundcolor": "#E5ECF6",
            "gridcolor": "white",
            "gridwidth": 2,
            "linecolor": "white",
            "showbackground": true,
            "ticks": "",
            "zerolinecolor": "white"
           }
          },
          "shapedefaults": {
           "line": {
            "color": "#2a3f5f"
           }
          },
          "ternary": {
           "aaxis": {
            "gridcolor": "white",
            "linecolor": "white",
            "ticks": ""
           },
           "baxis": {
            "gridcolor": "white",
            "linecolor": "white",
            "ticks": ""
           },
           "bgcolor": "#E5ECF6",
           "caxis": {
            "gridcolor": "white",
            "linecolor": "white",
            "ticks": ""
           }
          },
          "title": {
           "x": 0.05
          },
          "xaxis": {
           "automargin": true,
           "gridcolor": "white",
           "linecolor": "white",
           "ticks": "",
           "title": {
            "standoff": 15
           },
           "zerolinecolor": "white",
           "zerolinewidth": 2
          },
          "yaxis": {
           "automargin": true,
           "gridcolor": "white",
           "linecolor": "white",
           "ticks": "",
           "title": {
            "standoff": 15
           },
           "zerolinecolor": "white",
           "zerolinewidth": 2
          }
         }
        }
       }
      },
      "text/html": [
       "<div>                            <div id=\"f86def40-c527-4c66-a711-98ef28e36b7f\" class=\"plotly-graph-div\" style=\"height:525px; width:100%;\"></div>            <script type=\"text/javascript\">                require([\"plotly\"], function(Plotly) {                    window.PLOTLYENV=window.PLOTLYENV || {};                                    if (document.getElementById(\"f86def40-c527-4c66-a711-98ef28e36b7f\")) {                    Plotly.newPlot(                        \"f86def40-c527-4c66-a711-98ef28e36b7f\",                        [{\"hovertemplate\": \"latitude=%{lat}<br>longitude=%{lon}<extra></extra>\", \"lat\": [-7.025662, null, -7.214742, -27.5480798, -8.0481299, -8.0719694, -8.0470663, -8.0908115, -8.017635, -8.0906522, -27.5480798, -27.5480798, -8.04583, -8.0544761, -8.0957944, -8.0279472, -8.066398, -8.0840094, -8.0577884, null, null, -8.0719694, -8.1235027, -8.0395443, -8.0295619, null, -7.9974518, 40.5907585, -8.0719694, -8.0518174, -8.0719694, -7.9532851, -8.0190214, -8.0516621, -8.0633473, -8.0304836, -8.0108713, -8.1235027, -8.0840187, -7.9532851, -8.0415302, -8.058155, -7.9532851, -8.0375459, null, -8.1149502, -7.9532851, -8.1235027, -8.0461582, -8.019854, -8.0290456, -8.0617501, -8.0604429, -8.0719694, -8.0367282, -8.1437029, null, -8.0337759, -8.0367962, -8.0488968, -8.0332891, -8.0719694, -8.0478937, -8.1106092, -8.0436709, -7.9532851, -8.0719694, null, -8.048718000000001, -8.0719694, -8.0286625, -8.0506353, -8.0311337, -8.2838945, -8.29104015, -9.4044262, -8.3100846, null, 40.0932313, -8.2743861, null, -8.2815165, -8.29104015, null, null, -23.1451262, -29.1678985, -23.1451262, -29.1678985, -23.1451262, -23.1451262, null, -8.29104015, -23.1451262, null, -23.1451262, -23.1451262, null, null, null, -7.560603, -7.5131548, -8.0734621, null, null, null, -7.560603, null, -8.0734621, -8.0734621, null, -8.0734621, -7.5131548, null, -7.5131548, null, -7.57801, -7.560603, null, -6.0902674, -7.5131548, -7.8277781, -7.8175555, null, -7.8106691, null, -7.8212651, -7.8490756, -7.8354423, null, -22.8074737, -7.8085416, -7.81041525, -7.7905981, -7.8503604, -7.8857226, -7.9097835, -7.752273, null, null, null, -8.5571577, -8.5058973, -8.38358115, -8.38358115, -8.5435703, null, -8.3919914, null, null, -8.5913798, -8.4274648, -8.3980773, -8.5913798, -8.5913798, -8.5913798, -8.47205915, -8.5913798, -8.5913798, -8.2251098, -8.0944832, -8.0736328, -8.0944832, -8.0876012, -8.0707732, -8.094334, -8.2030682, -8.094334, -8.0944832, -8.0876012, -8.1626549, -8.0944832, -8.094334, -8.0736328, null, null, -8.0944832, -8.094334, null, -8.1883001, -8.1960289, -8.094334, null, -8.094334, null, -8.0944832, -8.094334, null, -8.2130079, -8.0736328, -22.9209231, -8.094334, -8.094334, -8.0766589, -22.9209231, -8.0944832, null, null, -8.2013452, -8.0736328, -8.206234, -8.094334, -8.094334, -8.094334, -8.2230205, -8.1545766, -8.1865631, -22.9209231, -8.1636323, -8.1031082, -8.1740485, null, -8.0736328, -8.1552666, -8.1552666, -8.2037325, -8.1727999, -8.2069455, -8.1883001, null, -8.1960289, -8.094334, -8.0766589, -8.2132152, -8.1960289, -8.1960289, -8.1960289, -8.0944832, -8.1803454, -8.1960289, -8.0944832, -8.1760585, -8.1532245, -8.094334, -8.1960289, -8.2030682, -8.1960289, -8.1960289, -8.108706, -8.108706, null, -8.108706, -32.176634, -8.1161865, -8.1161865, 40.6617852, -8.1092855, -7.9853461, null, -7.9736175, null, -7.9691489, -7.9843275, null, null, -7.96569, -7.9736175, -7.9785063, -7.96569, null, null, -8.0045409, -7.9743534, -7.9789559, null, -7.9643423, null, -7.9954737, null, -8.0297541, -21.3013349, -21.3013349, -7.9729896, -7.9729896, -7.9729896, -7.9729896, -7.9646164, -7.9646164, -21.3013349, -21.3013349, -21.3013349, -21.3013349, -7.9844171, -7.9765487, null, null, null, -21.3013349, null, null, -7.9646164, -7.9729896, -7.9729896, -7.9622325, -21.3013349, -21.3013349, -21.3013349, -7.9729896, -21.3013349, -7.957649, -21.3013349, -7.9729896, null, -7.8553024, null, -7.9646164, -7.9646164], \"legendgroup\": \"\", \"lon\": [-34.8306875, null, -35.8739367, -48.4968386, -34.9141498, -34.9572204, -34.934784, -34.8853771, -34.9538384, -34.8917118, -48.4968386, -48.4968386, -34.9110425, -34.876718, -34.9190275, -34.9169601, -34.9898974, -34.9256317, -34.9105248, null, null, -34.9572204, -34.9033955, -34.8848424, -34.8827934, null, -34.9108119, -8.7367768, -34.9572204, -34.9243522, -34.9572204, -34.9537358, -34.9381275, -34.9406654, -34.9363481, -34.8992939, -34.9350048, -34.9033955, -34.9238393, -34.9537358, -34.9357121, -34.9088906, -34.9537358, -34.8901297, null, -34.8949666, -34.9537358, -34.9033955, -34.9342557, -34.9363733, -34.9024433, -34.8872674, -34.8914382, -34.9572204, -34.8908676, -34.9053245, null, -34.9220079, -34.9085835, -34.892848, -34.9427408, -34.9572204, -34.9608788, -34.9514063, -34.9335031, -34.9537358, -34.9572204, null, -34.93998853929769, -34.9572204, -34.9324103, -34.8779225, -34.9558536, -35.0320984, -35.08255309375, -40.5472796, -34.9539685, null, -7.448713, -34.9488567, null, -35.0213099, -35.08255309375, null, null, -45.9226719, -51.18139, -45.9226719, -51.18139, -45.9226719, -45.9226719, null, -35.08255309375, -45.9226719, null, -45.9226719, -45.9226719, null, null, null, -34.99591, -35.317343, -34.9211473, null, null, null, -34.99591, null, -34.9211473, -34.9211473, null, -34.9211473, -35.317343, null, -35.317343, null, -34.832999, -34.99591, null, -35.2085026, -35.317343, -34.96413092063, -34.924821, null, -34.8974759, null, -34.9193586, -34.863891325213416, -34.9061125, null, -45.1984715, -34.8585464, -34.83872988499248, -34.8501889, -34.839008, -34.8295041, -34.8331825, -34.8246297, null, null, null, -35.0174513, -35.0013363, -35.07572653994858, -35.07572653994858, -35.0186315, null, -35.0481684, null, null, -35.0452171, -34.977762, -35.0611068, -35.0452171, -35.0452171, -35.0452171, -35.0103061513458, -35.0452171, -35.0452171, -34.9321823, -35.0387985, -34.9627385, -35.0387985, -35.0312417, -34.9929967, -35.0388014, -34.9216318, -35.0388014, -35.0387985, -35.0312417, -34.9214769, -35.0387985, -35.0388014, -34.9627385, null, null, -35.0387985, -35.0388014, null, -34.9352359, -34.9291341, -35.0388014, null, -35.0388014, null, -35.0387985, -35.0388014, null, -34.9257827, -34.9627385, -46.79167985362598, -35.0388014, -35.0388014, -34.9786273, -46.79167985362598, -35.0387985, null, null, -34.9341215, -34.9627385, -34.9230802, -35.0388014, -35.0388014, -35.0388014, -34.950917, -34.942537, -34.9211437, -46.79167985362598, -34.9135731, -35.0487519, -34.9178667, null, -34.9627385, -34.9592909, -34.9592909, -34.9287332, -34.939362, -34.9239845, -34.9352359, null, -34.9291341, -35.0388014, -34.9786273, -34.9251098, -34.9291341, -34.9291341, -34.9291341, -35.0387985, -34.9225612, -34.9291341, -35.0387985, -34.917877, -34.9761611, -35.0388014, -34.9291341, -34.9216318, -34.9291341, -34.9291341, -35.08354, -35.08354, null, -35.08354, -52.14545488055779, -35.1000692, -35.1000692, -8.6245635, -35.1937317, -34.8373689, null, -34.8513915, null, -34.8331075, -34.8398486, null, null, -34.8317257, -34.8513915, -34.8393296, -34.8317257, null, null, -34.8603677, -34.8426801, -34.8431631, null, -34.8731368, null, -35.041244, null, -34.9975115, -41.124786, -41.124786, -34.983639, -34.983639, -34.983639, -34.983639, -34.9942645, -34.9942645, -41.124786, -41.124786, -41.124786, -41.124786, -35.0003909, -35.0006148, null, null, null, -41.124786, null, null, -34.9942645, -34.983639, -34.983639, -35.0106087, -41.124786, -41.124786, -41.124786, -34.983639, -41.124786, -35.0051189, -41.124786, -34.983639, null, -35.1156352, null, -34.9942645, -34.9942645], \"marker\": {\"color\": \"#636efa\"}, \"mode\": \"markers\", \"name\": \"\", \"showlegend\": false, \"subplot\": \"mapbox\", \"type\": \"scattermapbox\"}],                        {\"legend\": {\"tracegroupgap\": 0}, \"mapbox\": {\"center\": {\"lat\": -8, \"lon\": -34.9}, \"domain\": {\"x\": [0.0, 1.0], \"y\": [0.0, 1.0]}, \"style\": \"open-street-map\", \"zoom\": 10}, \"margin\": {\"t\": 60}, \"template\": {\"data\": {\"bar\": [{\"error_x\": {\"color\": \"#2a3f5f\"}, \"error_y\": {\"color\": \"#2a3f5f\"}, \"marker\": {\"line\": {\"color\": \"#E5ECF6\", \"width\": 0.5}}, \"type\": \"bar\"}], \"barpolar\": [{\"marker\": {\"line\": {\"color\": \"#E5ECF6\", \"width\": 0.5}}, \"type\": \"barpolar\"}], \"carpet\": [{\"aaxis\": {\"endlinecolor\": \"#2a3f5f\", \"gridcolor\": \"white\", \"linecolor\": \"white\", \"minorgridcolor\": \"white\", \"startlinecolor\": \"#2a3f5f\"}, \"baxis\": {\"endlinecolor\": \"#2a3f5f\", \"gridcolor\": \"white\", \"linecolor\": \"white\", \"minorgridcolor\": \"white\", \"startlinecolor\": \"#2a3f5f\"}, \"type\": \"carpet\"}], \"choropleth\": [{\"colorbar\": {\"outlinewidth\": 0, \"ticks\": \"\"}, \"type\": \"choropleth\"}], \"contour\": [{\"colorbar\": {\"outlinewidth\": 0, \"ticks\": \"\"}, \"colorscale\": [[0.0, \"#0d0887\"], [0.1111111111111111, \"#46039f\"], [0.2222222222222222, \"#7201a8\"], [0.3333333333333333, \"#9c179e\"], [0.4444444444444444, \"#bd3786\"], [0.5555555555555556, \"#d8576b\"], [0.6666666666666666, \"#ed7953\"], [0.7777777777777778, \"#fb9f3a\"], [0.8888888888888888, \"#fdca26\"], [1.0, \"#f0f921\"]], \"type\": \"contour\"}], \"contourcarpet\": [{\"colorbar\": {\"outlinewidth\": 0, \"ticks\": \"\"}, \"type\": \"contourcarpet\"}], \"heatmap\": [{\"colorbar\": {\"outlinewidth\": 0, \"ticks\": \"\"}, \"colorscale\": [[0.0, \"#0d0887\"], [0.1111111111111111, \"#46039f\"], [0.2222222222222222, \"#7201a8\"], [0.3333333333333333, \"#9c179e\"], [0.4444444444444444, \"#bd3786\"], [0.5555555555555556, \"#d8576b\"], [0.6666666666666666, \"#ed7953\"], [0.7777777777777778, \"#fb9f3a\"], [0.8888888888888888, \"#fdca26\"], [1.0, \"#f0f921\"]], \"type\": \"heatmap\"}], \"heatmapgl\": [{\"colorbar\": {\"outlinewidth\": 0, \"ticks\": \"\"}, \"colorscale\": [[0.0, \"#0d0887\"], [0.1111111111111111, \"#46039f\"], [0.2222222222222222, \"#7201a8\"], [0.3333333333333333, \"#9c179e\"], [0.4444444444444444, \"#bd3786\"], [0.5555555555555556, \"#d8576b\"], [0.6666666666666666, \"#ed7953\"], [0.7777777777777778, \"#fb9f3a\"], [0.8888888888888888, \"#fdca26\"], [1.0, \"#f0f921\"]], \"type\": \"heatmapgl\"}], \"histogram\": [{\"marker\": {\"colorbar\": {\"outlinewidth\": 0, \"ticks\": \"\"}}, \"type\": \"histogram\"}], \"histogram2d\": [{\"colorbar\": {\"outlinewidth\": 0, \"ticks\": \"\"}, \"colorscale\": [[0.0, \"#0d0887\"], [0.1111111111111111, \"#46039f\"], [0.2222222222222222, \"#7201a8\"], [0.3333333333333333, \"#9c179e\"], [0.4444444444444444, \"#bd3786\"], [0.5555555555555556, \"#d8576b\"], [0.6666666666666666, \"#ed7953\"], [0.7777777777777778, \"#fb9f3a\"], [0.8888888888888888, \"#fdca26\"], [1.0, \"#f0f921\"]], \"type\": \"histogram2d\"}], \"histogram2dcontour\": [{\"colorbar\": {\"outlinewidth\": 0, \"ticks\": \"\"}, \"colorscale\": [[0.0, \"#0d0887\"], [0.1111111111111111, \"#46039f\"], [0.2222222222222222, \"#7201a8\"], [0.3333333333333333, \"#9c179e\"], [0.4444444444444444, \"#bd3786\"], [0.5555555555555556, \"#d8576b\"], [0.6666666666666666, \"#ed7953\"], [0.7777777777777778, \"#fb9f3a\"], [0.8888888888888888, \"#fdca26\"], [1.0, \"#f0f921\"]], \"type\": \"histogram2dcontour\"}], \"mesh3d\": [{\"colorbar\": {\"outlinewidth\": 0, \"ticks\": \"\"}, \"type\": \"mesh3d\"}], \"parcoords\": [{\"line\": {\"colorbar\": {\"outlinewidth\": 0, \"ticks\": \"\"}}, \"type\": \"parcoords\"}], \"pie\": [{\"automargin\": true, \"type\": \"pie\"}], \"scatter\": [{\"marker\": {\"colorbar\": {\"outlinewidth\": 0, \"ticks\": \"\"}}, \"type\": \"scatter\"}], \"scatter3d\": [{\"line\": {\"colorbar\": {\"outlinewidth\": 0, \"ticks\": \"\"}}, \"marker\": {\"colorbar\": {\"outlinewidth\": 0, \"ticks\": \"\"}}, \"type\": \"scatter3d\"}], \"scattercarpet\": [{\"marker\": {\"colorbar\": {\"outlinewidth\": 0, \"ticks\": \"\"}}, \"type\": \"scattercarpet\"}], \"scattergeo\": [{\"marker\": {\"colorbar\": {\"outlinewidth\": 0, \"ticks\": \"\"}}, \"type\": \"scattergeo\"}], \"scattergl\": [{\"marker\": {\"colorbar\": {\"outlinewidth\": 0, \"ticks\": \"\"}}, \"type\": \"scattergl\"}], \"scattermapbox\": [{\"marker\": {\"colorbar\": {\"outlinewidth\": 0, \"ticks\": \"\"}}, \"type\": \"scattermapbox\"}], \"scatterpolar\": [{\"marker\": {\"colorbar\": {\"outlinewidth\": 0, \"ticks\": \"\"}}, \"type\": \"scatterpolar\"}], \"scatterpolargl\": [{\"marker\": {\"colorbar\": {\"outlinewidth\": 0, \"ticks\": \"\"}}, \"type\": \"scatterpolargl\"}], \"scatterternary\": [{\"marker\": {\"colorbar\": {\"outlinewidth\": 0, \"ticks\": \"\"}}, \"type\": \"scatterternary\"}], \"surface\": [{\"colorbar\": {\"outlinewidth\": 0, \"ticks\": \"\"}, \"colorscale\": [[0.0, \"#0d0887\"], [0.1111111111111111, \"#46039f\"], [0.2222222222222222, \"#7201a8\"], [0.3333333333333333, \"#9c179e\"], [0.4444444444444444, \"#bd3786\"], [0.5555555555555556, \"#d8576b\"], [0.6666666666666666, \"#ed7953\"], [0.7777777777777778, \"#fb9f3a\"], [0.8888888888888888, \"#fdca26\"], [1.0, \"#f0f921\"]], \"type\": \"surface\"}], \"table\": [{\"cells\": {\"fill\": {\"color\": \"#EBF0F8\"}, \"line\": {\"color\": \"white\"}}, \"header\": {\"fill\": {\"color\": \"#C8D4E3\"}, \"line\": {\"color\": \"white\"}}, \"type\": \"table\"}]}, \"layout\": {\"annotationdefaults\": {\"arrowcolor\": \"#2a3f5f\", \"arrowhead\": 0, \"arrowwidth\": 1}, \"autotypenumbers\": \"strict\", \"coloraxis\": {\"colorbar\": {\"outlinewidth\": 0, \"ticks\": \"\"}}, \"colorscale\": {\"diverging\": [[0, \"#8e0152\"], [0.1, \"#c51b7d\"], [0.2, \"#de77ae\"], [0.3, \"#f1b6da\"], [0.4, \"#fde0ef\"], [0.5, \"#f7f7f7\"], [0.6, \"#e6f5d0\"], [0.7, \"#b8e186\"], [0.8, \"#7fbc41\"], [0.9, \"#4d9221\"], [1, \"#276419\"]], \"sequential\": [[0.0, \"#0d0887\"], [0.1111111111111111, \"#46039f\"], [0.2222222222222222, \"#7201a8\"], [0.3333333333333333, \"#9c179e\"], [0.4444444444444444, \"#bd3786\"], [0.5555555555555556, \"#d8576b\"], [0.6666666666666666, \"#ed7953\"], [0.7777777777777778, \"#fb9f3a\"], [0.8888888888888888, \"#fdca26\"], [1.0, \"#f0f921\"]], \"sequentialminus\": [[0.0, \"#0d0887\"], [0.1111111111111111, \"#46039f\"], [0.2222222222222222, \"#7201a8\"], [0.3333333333333333, \"#9c179e\"], [0.4444444444444444, \"#bd3786\"], [0.5555555555555556, \"#d8576b\"], [0.6666666666666666, \"#ed7953\"], [0.7777777777777778, \"#fb9f3a\"], [0.8888888888888888, \"#fdca26\"], [1.0, \"#f0f921\"]]}, \"colorway\": [\"#636efa\", \"#EF553B\", \"#00cc96\", \"#ab63fa\", \"#FFA15A\", \"#19d3f3\", \"#FF6692\", \"#B6E880\", \"#FF97FF\", \"#FECB52\"], \"font\": {\"color\": \"#2a3f5f\"}, \"geo\": {\"bgcolor\": \"white\", \"lakecolor\": \"white\", \"landcolor\": \"#E5ECF6\", \"showlakes\": true, \"showland\": true, \"subunitcolor\": \"white\"}, \"hoverlabel\": {\"align\": \"left\"}, \"hovermode\": \"closest\", \"mapbox\": {\"style\": \"light\"}, \"paper_bgcolor\": \"white\", \"plot_bgcolor\": \"#E5ECF6\", \"polar\": {\"angularaxis\": {\"gridcolor\": \"white\", \"linecolor\": \"white\", \"ticks\": \"\"}, \"bgcolor\": \"#E5ECF6\", \"radialaxis\": {\"gridcolor\": \"white\", \"linecolor\": \"white\", \"ticks\": \"\"}}, \"scene\": {\"xaxis\": {\"backgroundcolor\": \"#E5ECF6\", \"gridcolor\": \"white\", \"gridwidth\": 2, \"linecolor\": \"white\", \"showbackground\": true, \"ticks\": \"\", \"zerolinecolor\": \"white\"}, \"yaxis\": {\"backgroundcolor\": \"#E5ECF6\", \"gridcolor\": \"white\", \"gridwidth\": 2, \"linecolor\": \"white\", \"showbackground\": true, \"ticks\": \"\", \"zerolinecolor\": \"white\"}, \"zaxis\": {\"backgroundcolor\": \"#E5ECF6\", \"gridcolor\": \"white\", \"gridwidth\": 2, \"linecolor\": \"white\", \"showbackground\": true, \"ticks\": \"\", \"zerolinecolor\": \"white\"}}, \"shapedefaults\": {\"line\": {\"color\": \"#2a3f5f\"}}, \"ternary\": {\"aaxis\": {\"gridcolor\": \"white\", \"linecolor\": \"white\", \"ticks\": \"\"}, \"baxis\": {\"gridcolor\": \"white\", \"linecolor\": \"white\", \"ticks\": \"\"}, \"bgcolor\": \"#E5ECF6\", \"caxis\": {\"gridcolor\": \"white\", \"linecolor\": \"white\", \"ticks\": \"\"}}, \"title\": {\"x\": 0.05}, \"xaxis\": {\"automargin\": true, \"gridcolor\": \"white\", \"linecolor\": \"white\", \"ticks\": \"\", \"title\": {\"standoff\": 15}, \"zerolinecolor\": \"white\", \"zerolinewidth\": 2}, \"yaxis\": {\"automargin\": true, \"gridcolor\": \"white\", \"linecolor\": \"white\", \"ticks\": \"\", \"title\": {\"standoff\": 15}, \"zerolinecolor\": \"white\", \"zerolinewidth\": 2}}}},                        {\"responsive\": true}                    ).then(function(){\n",
       "                            \n",
       "var gd = document.getElementById('f86def40-c527-4c66-a711-98ef28e36b7f');\n",
       "var x = new MutationObserver(function (mutations, observer) {{\n",
       "        var display = window.getComputedStyle(gd).display;\n",
       "        if (!display || display === 'none') {{\n",
       "            console.log([gd, 'removed!']);\n",
       "            Plotly.purge(gd);\n",
       "            observer.disconnect();\n",
       "        }}\n",
       "}});\n",
       "\n",
       "// Listen for the removal of the full notebook cells\n",
       "var notebookContainer = gd.closest('#notebook-container');\n",
       "if (notebookContainer) {{\n",
       "    x.observe(notebookContainer, {childList: true});\n",
       "}}\n",
       "\n",
       "// Listen for the clearing of the current output cell\n",
       "var outputEl = gd.closest('.output');\n",
       "if (outputEl) {{\n",
       "    x.observe(outputEl, {childList: true});\n",
       "}}\n",
       "\n",
       "                        })                };                });            </script>        </div>"
      ]
     },
     "metadata": {},
     "output_type": "display_data"
    }
   ],
   "source": [
    "import plotly.express as px\n",
    "\n",
    "fig = px.scatter_mapbox(df, lat='latitude', lon='longitude',\n",
    "                     animation_frame=None,\n",
    "                     center=dict(lat=-8, lon=-34.9),zoom=10,\n",
    "                     mapbox_style=\"open-street-map\"\n",
    "                     # projection=\"orthographic\"\n",
    "                     )\n",
    "                     \n",
    "fig.show()"
   ]
  },
  {
   "cell_type": "code",
   "execution_count": null,
   "metadata": {},
   "outputs": [],
   "source": []
  }
 ],
 "metadata": {
  "kernelspec": {
   "display_name": "Python 3",
   "language": "python",
   "name": "python3"
  },
  "language_info": {
   "codemirror_mode": {
    "name": "ipython",
    "version": 3
   },
   "file_extension": ".py",
   "mimetype": "text/x-python",
   "name": "python",
   "nbconvert_exporter": "python",
   "pygments_lexer": "ipython3",
   "version": "3.8.5"
  }
 },
 "nbformat": 4,
 "nbformat_minor": 4
}
